{
 "cells": [
  {
   "cell_type": "markdown",
   "metadata": {},
   "source": [
    "\n",
    "\n",
    "## Problem Statement\n",
    "\n",
    "\n",
    "You have been hired by the stakeholders of Dream Housing Finance company to help them get visual insights on the company's operations. \n",
    "\n",
    "Using the data visualization techniques you learned, you have to help visualise the data and see if you can help the stakeholders arrive at some inference based on the visual plots.\n",
    "\n",
    "\n",
    "## About the Dataset\n",
    "\n",
    "\n",
    "The snapshot of the data, you will be working on:\n",
    "\n",
    "\n",
    "![loan_data](https://storage.googleapis.com/ga-commit-live-prod-live-data/account/b92/11111111-1111-1111-1111-000000000000/b981/855877f6-eb24-4ccd-84b9-fdacd04d8605/file.PNG)\n",
    "\n",
    "\n",
    "The dataset has details of 614 customers with the following 13 features\n",
    "\n",
    "|Feature|Description|\n",
    "|-----|-----|\n",
    "|Loan_ID|Unique Loan ID|\n",
    "|Gender|Male/Female|\n",
    "|Married|Applicant Married (Y/N)|\n",
    "|Dependents|Number of dependents|\n",
    "|Education|Graduate/Under Graduate|\n",
    "|Self_Employed|Self employed (Y/N)|\n",
    "|ApplicantIncome|Income of the applicant|\n",
    "|CoapplicantIncome|Income of the co applicant|\n",
    "|LoanAmount|Loan amount in thousands|\n",
    "|Loan_Amount_Term|Term of loan in months|\n",
    "|Credit_History|credit hostory meets guidelines}|\n",
    "|Property_Area| Urban/Semi-Urban/Rural|\n",
    "|Loan_Status|Loan approved (Y/N)|\n",
    "\n",
    "## Why solve this project?\n",
    "\n",
    "After completing this project, you will have a better understanding of data visualization techniques. In this project, you will be applying the following concepts:\n",
    "\n",
    "- Bar plotting   \n",
    "- Scatter plotting \n",
    "- Kernel Density plotting\n",
    "- Subplot operations\n",
    "- Axes modifications\n",
    "\n",
    "\n",
    "\n"
   ]
  },
  {
   "cell_type": "markdown",
   "metadata": {},
   "source": [
    "# Loan Status\n",
    "Let's start with the simple task of visualizing the company's record with respect to loan approvals.\n",
    "\n",
    "* The path to the dataset has been stored in a variable `path`\n",
    "\n",
    "* Load the dataframe using `pd.read_csv()` and store the dataframe in a variable called `data`.\n",
    "\n",
    "\n",
    "* Save the value counts of `Loan_Status` in a variable called `loan_status` using `value_counts()`\n",
    "\n",
    "\n",
    "* Plot a bar graph of `loan_status`\n",
    "\n",
    "\n",
    "#### Things to ponder upon: \n",
    "      - Company has more 'loan approvals' or 'loan disapprovals'?\n",
    "      - Can one of the company's health factors be its loan status distribution?"
   ]
  },
  {
   "cell_type": "code",
   "execution_count": 2,
   "metadata": {},
   "outputs": [],
   "source": [
    "#Importing header files\n",
    "import os\n",
    "import pandas as pd\n",
    "import numpy as np\n",
    "import matplotlib.pyplot as plt"
   ]
  },
  {
   "cell_type": "code",
   "execution_count": 3,
   "metadata": {},
   "outputs": [
    {
     "data": {
      "text/plain": [
       "['.ipynb_checkpoints', 'Visualization-solution.ipynb', 'Visualization.ipynb']"
      ]
     },
     "execution_count": 3,
     "metadata": {},
     "output_type": "execute_result"
    }
   ],
   "source": [
    "os.listdir()"
   ]
  },
  {
   "cell_type": "code",
   "execution_count": 4,
   "metadata": {},
   "outputs": [],
   "source": [
    "path = '../data/data.csv'\n",
    "\n",
    "#Reading the file\n",
    "data=pd.read_csv(path)\n",
    "\n",
    "#Creating a new variable to store the value counts\n",
    "loan_status=data['Loan_Status'].value_counts()"
   ]
  },
  {
   "cell_type": "code",
   "execution_count": 5,
   "metadata": {},
   "outputs": [
    {
     "data": {
      "image/png": "[encoded data removed]",
      "text/plain": [
       "<Figure size 432x288 with 1 Axes>"
      ]
     },
     "metadata": {
      "needs_background": "light"
     },
     "output_type": "display_data"
    }
   ],
   "source": [
    "#Plotting bar plot\n",
    "plt.bar(loan_status.index, loan_status)\n",
    "plt.show()\n"
   ]
  },
  {
   "cell_type": "markdown",
   "metadata": {},
   "source": [
    "# Everyone needs money \n",
    "The company provides financial assistance across the different regions of the country. One interesting statistic that stakeholders want to see is the loan approval distribution across the regions.\n",
    "\n",
    "## Instructions :\n",
    "\n",
    "* Group the `'data'` dataframe by `Property_Area` and `Loan_Status` and store it in a  variable called `'property_and_loan'`\n",
    "\n",
    "\n",
    "* Use the `.size()` method on `'property_and_loan'` and then use `.unstack()` and save it back to `'property_and_loan'` \n",
    "\n",
    "\n",
    "* Plot an unstacked bar plot of `property_and_loan` (It is similar to creating a stacked bar plot except change the parameter `'stacked'` to False)\n",
    "\n",
    "\n",
    "* Name the x-axis as `Property Area` \n",
    "\n",
    "\n",
    "* Name the y-axis as `Loan Status` \n",
    "\n",
    "\n",
    "* Rotate the labels of x-axis by 45<sup>o</sup> \n",
    "\n",
    "\n",
    "### Things to ponder upon \n",
    "\n",
    "    - Which is the region with the highest no. of loan approvals? lowest no. of loan approvals?\n",
    "\n",
    "    - Which is the region with the maximum difference between loan approvals and loan rejections?"
   ]
  },
  {
   "cell_type": "code",
   "execution_count": 11,
   "metadata": {
    "scrolled": true
   },
   "outputs": [
    {
     "data": {
      "text/html": [
       "<div>\n",
       "<style scoped>\n",
       "    .dataframe tbody tr th:only-of-type {\n",
       "        vertical-align: middle;\n",
       "    }\n",
       "\n",
       "    .dataframe tbody tr th {\n",
       "        vertical-align: top;\n",
       "    }\n",
       "\n",
       "    .dataframe thead th {\n",
       "        text-align: right;\n",
       "    }\n",
       "</style>\n",
       "<table border=\"1\" class=\"dataframe\">\n",
       "  <thead>\n",
       "    <tr style=\"text-align: right;\">\n",
       "      <th>Loan_Status</th>\n",
       "      <th>N</th>\n",
       "      <th>Y</th>\n",
       "    </tr>\n",
       "    <tr>\n",
       "      <th>Property_Area</th>\n",
       "      <th></th>\n",
       "      <th></th>\n",
       "    </tr>\n",
       "  </thead>\n",
       "  <tbody>\n",
       "    <tr>\n",
       "      <th>Rural</th>\n",
       "      <td>68</td>\n",
       "      <td>109</td>\n",
       "    </tr>\n",
       "    <tr>\n",
       "      <th>Semiurban</th>\n",
       "      <td>51</td>\n",
       "      <td>175</td>\n",
       "    </tr>\n",
       "    <tr>\n",
       "      <th>Urban</th>\n",
       "      <td>66</td>\n",
       "      <td>131</td>\n",
       "    </tr>\n",
       "  </tbody>\n",
       "</table>\n",
       "</div>"
      ],
      "text/plain": [
       "Loan_Status     N    Y\n",
       "Property_Area         \n",
       "Rural          68  109\n",
       "Semiurban      51  175\n",
       "Urban          66  131"
      ]
     },
     "execution_count": 11,
     "metadata": {},
     "output_type": "execute_result"
    }
   ],
   "source": [
    "property_and_loan = data.groupby(['Property_Area','Loan_Status'])\n",
    "property_and_loan = property_and_loan.size().unstack()\n",
    "\n",
    "property_and_loan"
   ]
  },
  {
   "cell_type": "code",
   "execution_count": 18,
   "metadata": {},
   "outputs": [
    {
     "data": {
      "text/plain": [
       "(array([0, 1, 2]),\n",
       " [Text(0, 0, 'Rural'), Text(1, 0, 'Semiurban'), Text(2, 0, 'Urban')])"
      ]
     },
     "execution_count": 18,
     "metadata": {},
     "output_type": "execute_result"
    },
    {
     "data": {
      "image/png": "[encoded data removed]",
      "text/plain": [
       "<Figure size 1080x720 with 1 Axes>"
      ]
     },
     "metadata": {
      "needs_background": "light"
     },
     "output_type": "display_data"
    }
   ],
   "source": [
    "property_and_loan.plot(kind='bar', stacked=False, figsize=(15,10))\n",
    "\n",
    "#Changing the x-axis label\n",
    "plt.xlabel('Property_Area')\n",
    "\n",
    "#Changing the y-axis label\n",
    "plt.ylabel('Loan_Status')\n",
    "\n",
    "#Rotating the ticks of X-axis\n",
    "plt.xticks(rotation=45)"
   ]
  },
  {
   "cell_type": "markdown",
   "metadata": {},
   "source": [
    "# Expensive Education\n",
    "Higher education has always been an expensive endeavour for people but it results in better career opportunities and stability in life. But does higher education result in a better guarantee in issuing loans? \n",
    "\n",
    "## Instructions :\n",
    "\n",
    "* Group the `'data'` dataframe by `Education` and `Loan_Status` and store it in a  variable called `'education_and_loan'`\n",
    "\n",
    "\n",
    "* Use the `.size()` method on `'education_and_loan'` and then use `.unstack()` and save it back to `'education_and_loan'` \n",
    "\n",
    "\n",
    "* Plot an stacked bar plot of `education_and_loan`\n",
    "\n",
    "\n",
    "* Name the x-axis as `Education Status` \n",
    "\n",
    "\n",
    "* Name the y-axis as `Loan Status` \n",
    "\n",
    "\n",
    "* Rotate the labels of x-axis by 45<sup>o</sup> \n",
    "\n",
    "#### Things to ponder upon\n",
    "    - Overall which group has asked for higher loan services irrespective of the approval? Graduate or Non-Graduate?\n",
    "    - Which group has had better approval to non-approval ratio? Graduate or Non-Graduate?\n",
    "    \n",
    "      Do the above conclusions make sense? Why?"
   ]
  },
  {
   "cell_type": "code",
   "execution_count": 21,
   "metadata": {},
   "outputs": [
    {
     "data": {
      "text/plain": [
       "(array([0, 1]), [Text(0, 0, 'Graduate'), Text(1, 0, 'Not Graduate')])"
      ]
     },
     "execution_count": 21,
     "metadata": {},
     "output_type": "execute_result"
    },
    {
     "data": {
      "image/png": "[encoded data removed]",
      "text/plain": [
       "<Figure size 1080x504 with 1 Axes>"
      ]
     },
     "metadata": {
      "needs_background": "light"
     },
     "output_type": "display_data"
    }
   ],
   "source": [
    "education_and_loan = data.groupby(['Education', 'Loan_Status'])\n",
    "education_and_loan = education_and_loan.size().unstack()\n",
    "\n",
    "education_and_loan.plot(kind='bar', stacked=True, figsize=(15,7))\n",
    "\n",
    "#Changing the x-axis label\n",
    "plt.xlabel('Education Status')\n",
    "\n",
    "#Changing the y-axis label\n",
    "plt.ylabel('Loan_Status')\n",
    "\n",
    "#Rotating the ticks of X-axis\n",
    "plt.xticks(rotation=45)\n",
    "\n"
   ]
  },
  {
   "cell_type": "markdown",
   "metadata": {},
   "source": [
    "# Smarter and Richer? \n",
    "\n",
    "After seeing the loan status distribution, let's check whether being graduate or not also leads to different loan amount distribution by plotting an overlapping density plot of two values\n",
    "\n",
    "## Instructions :\n",
    "\n",
    "* Create a dataframe called 'graduate' which is a subset of `'data'` dataframe with the condition `\"data['Education'] == 'Graduate'\"`\n",
    "\n",
    "\n",
    "* Create a dataframe called 'not_graduate' which is a subset of `'data'` dataframe with the condition `\"data['Education'] == 'Not Graduate'\"`\n",
    "\n",
    "\n",
    "* Plot a density plot `LoanAmount` of `'graduate'` dataframe using `\"Series.plot()\"` and pass the parameter `kind`='density' and `label`='Graduate'\n",
    "\n",
    "\n",
    "* Do the same for `LoanAmount` of `'not_graduate'` dataframe but with `label`='Not Graduate'\n",
    "\n",
    "\n",
    "\n",
    "#### Things to ponder upon\n",
    "    - Do Graduate people get approved a higher amount than their Non Graduate counterparts?\n",
    "    \n",
    "    - What's the average amount of loan approved for Graduate? for Non-Graduate? Is there a huge difference between the two? \n",
    "\n",
    "\n"
   ]
  },
  {
   "cell_type": "code",
   "execution_count": 23,
   "metadata": {},
   "outputs": [
    {
     "data": {
      "text/plain": [
       "0       True\n",
       "1       True\n",
       "2       True\n",
       "3      False\n",
       "4       True\n",
       "       ...  \n",
       "595     True\n",
       "596     True\n",
       "597     True\n",
       "598     True\n",
       "599     True\n",
       "Name: Education, Length: 600, dtype: bool"
      ]
     },
     "execution_count": 23,
     "metadata": {},
     "output_type": "execute_result"
    }
   ],
   "source": [
    "data['Education'] == 'Graduate'"
   ]
  },
  {
   "cell_type": "code",
   "execution_count": 22,
   "metadata": {
    "scrolled": true
   },
   "outputs": [
    {
     "data": {
      "text/html": [
       "<div>\n",
       "<style scoped>\n",
       "    .dataframe tbody tr th:only-of-type {\n",
       "        vertical-align: middle;\n",
       "    }\n",
       "\n",
       "    .dataframe tbody tr th {\n",
       "        vertical-align: top;\n",
       "    }\n",
       "\n",
       "    .dataframe thead th {\n",
       "        text-align: right;\n",
       "    }\n",
       "</style>\n",
       "<table border=\"1\" class=\"dataframe\">\n",
       "  <thead>\n",
       "    <tr style=\"text-align: right;\">\n",
       "      <th></th>\n",
       "      <th>Loan_ID</th>\n",
       "      <th>Gender</th>\n",
       "      <th>Married</th>\n",
       "      <th>Dependents</th>\n",
       "      <th>Education</th>\n",
       "      <th>Self_Employed</th>\n",
       "      <th>ApplicantIncome</th>\n",
       "      <th>CoapplicantIncome</th>\n",
       "      <th>LoanAmount</th>\n",
       "      <th>Loan_Amount_Term</th>\n",
       "      <th>Credit_History</th>\n",
       "      <th>Property_Area</th>\n",
       "      <th>Loan_Status</th>\n",
       "    </tr>\n",
       "  </thead>\n",
       "  <tbody>\n",
       "    <tr>\n",
       "      <th>3</th>\n",
       "      <td>LP001006</td>\n",
       "      <td>Male</td>\n",
       "      <td>Yes</td>\n",
       "      <td>0</td>\n",
       "      <td>Not Graduate</td>\n",
       "      <td>No</td>\n",
       "      <td>2583</td>\n",
       "      <td>2358.0</td>\n",
       "      <td>120.0</td>\n",
       "      <td>360.0</td>\n",
       "      <td>1.0</td>\n",
       "      <td>Urban</td>\n",
       "      <td>Y</td>\n",
       "    </tr>\n",
       "    <tr>\n",
       "      <th>6</th>\n",
       "      <td>LP001013</td>\n",
       "      <td>Male</td>\n",
       "      <td>Yes</td>\n",
       "      <td>0</td>\n",
       "      <td>Not Graduate</td>\n",
       "      <td>No</td>\n",
       "      <td>2333</td>\n",
       "      <td>1516.0</td>\n",
       "      <td>95.0</td>\n",
       "      <td>360.0</td>\n",
       "      <td>1.0</td>\n",
       "      <td>Urban</td>\n",
       "      <td>Y</td>\n",
       "    </tr>\n",
       "    <tr>\n",
       "      <th>15</th>\n",
       "      <td>LP001034</td>\n",
       "      <td>Male</td>\n",
       "      <td>No</td>\n",
       "      <td>1</td>\n",
       "      <td>Not Graduate</td>\n",
       "      <td>No</td>\n",
       "      <td>3596</td>\n",
       "      <td>0.0</td>\n",
       "      <td>100.0</td>\n",
       "      <td>240.0</td>\n",
       "      <td>NaN</td>\n",
       "      <td>Urban</td>\n",
       "      <td>Y</td>\n",
       "    </tr>\n",
       "    <tr>\n",
       "      <th>17</th>\n",
       "      <td>LP001038</td>\n",
       "      <td>Male</td>\n",
       "      <td>Yes</td>\n",
       "      <td>0</td>\n",
       "      <td>Not Graduate</td>\n",
       "      <td>No</td>\n",
       "      <td>4887</td>\n",
       "      <td>0.0</td>\n",
       "      <td>133.0</td>\n",
       "      <td>360.0</td>\n",
       "      <td>1.0</td>\n",
       "      <td>Rural</td>\n",
       "      <td>N</td>\n",
       "    </tr>\n",
       "    <tr>\n",
       "      <th>19</th>\n",
       "      <td>LP001043</td>\n",
       "      <td>Male</td>\n",
       "      <td>Yes</td>\n",
       "      <td>0</td>\n",
       "      <td>Not Graduate</td>\n",
       "      <td>No</td>\n",
       "      <td>7660</td>\n",
       "      <td>0.0</td>\n",
       "      <td>104.0</td>\n",
       "      <td>360.0</td>\n",
       "      <td>0.0</td>\n",
       "      <td>Urban</td>\n",
       "      <td>N</td>\n",
       "    </tr>\n",
       "    <tr>\n",
       "      <th>...</th>\n",
       "      <td>...</td>\n",
       "      <td>...</td>\n",
       "      <td>...</td>\n",
       "      <td>...</td>\n",
       "      <td>...</td>\n",
       "      <td>...</td>\n",
       "      <td>...</td>\n",
       "      <td>...</td>\n",
       "      <td>...</td>\n",
       "      <td>...</td>\n",
       "      <td>...</td>\n",
       "      <td>...</td>\n",
       "      <td>...</td>\n",
       "    </tr>\n",
       "    <tr>\n",
       "      <th>582</th>\n",
       "      <td>LP002940</td>\n",
       "      <td>Male</td>\n",
       "      <td>No</td>\n",
       "      <td>0</td>\n",
       "      <td>Not Graduate</td>\n",
       "      <td>No</td>\n",
       "      <td>3833</td>\n",
       "      <td>0.0</td>\n",
       "      <td>110.0</td>\n",
       "      <td>360.0</td>\n",
       "      <td>1.0</td>\n",
       "      <td>Rural</td>\n",
       "      <td>Y</td>\n",
       "    </tr>\n",
       "    <tr>\n",
       "      <th>583</th>\n",
       "      <td>LP002941</td>\n",
       "      <td>Male</td>\n",
       "      <td>Yes</td>\n",
       "      <td>2</td>\n",
       "      <td>Not Graduate</td>\n",
       "      <td>Yes</td>\n",
       "      <td>6383</td>\n",
       "      <td>1000.0</td>\n",
       "      <td>187.0</td>\n",
       "      <td>360.0</td>\n",
       "      <td>1.0</td>\n",
       "      <td>Rural</td>\n",
       "      <td>N</td>\n",
       "    </tr>\n",
       "    <tr>\n",
       "      <th>587</th>\n",
       "      <td>LP002950</td>\n",
       "      <td>Male</td>\n",
       "      <td>Yes</td>\n",
       "      <td>0</td>\n",
       "      <td>Not Graduate</td>\n",
       "      <td>NaN</td>\n",
       "      <td>2894</td>\n",
       "      <td>2792.0</td>\n",
       "      <td>155.0</td>\n",
       "      <td>360.0</td>\n",
       "      <td>1.0</td>\n",
       "      <td>Rural</td>\n",
       "      <td>Y</td>\n",
       "    </tr>\n",
       "    <tr>\n",
       "      <th>591</th>\n",
       "      <td>LP002960</td>\n",
       "      <td>Male</td>\n",
       "      <td>Yes</td>\n",
       "      <td>0</td>\n",
       "      <td>Not Graduate</td>\n",
       "      <td>No</td>\n",
       "      <td>2400</td>\n",
       "      <td>3800.0</td>\n",
       "      <td>NaN</td>\n",
       "      <td>180.0</td>\n",
       "      <td>1.0</td>\n",
       "      <td>Urban</td>\n",
       "      <td>N</td>\n",
       "    </tr>\n",
       "    <tr>\n",
       "      <th>593</th>\n",
       "      <td>LP002964</td>\n",
       "      <td>Male</td>\n",
       "      <td>Yes</td>\n",
       "      <td>2</td>\n",
       "      <td>Not Graduate</td>\n",
       "      <td>No</td>\n",
       "      <td>3987</td>\n",
       "      <td>1411.0</td>\n",
       "      <td>157.0</td>\n",
       "      <td>360.0</td>\n",
       "      <td>1.0</td>\n",
       "      <td>Rural</td>\n",
       "      <td>Y</td>\n",
       "    </tr>\n",
       "  </tbody>\n",
       "</table>\n",
       "<p>134 rows × 13 columns</p>\n",
       "</div>"
      ],
      "text/plain": [
       "      Loan_ID Gender Married Dependents     Education Self_Employed  \\\n",
       "3    LP001006   Male     Yes          0  Not Graduate            No   \n",
       "6    LP001013   Male     Yes          0  Not Graduate            No   \n",
       "15   LP001034   Male      No          1  Not Graduate            No   \n",
       "17   LP001038   Male     Yes          0  Not Graduate            No   \n",
       "19   LP001043   Male     Yes          0  Not Graduate            No   \n",
       "..        ...    ...     ...        ...           ...           ...   \n",
       "582  LP002940   Male      No          0  Not Graduate            No   \n",
       "583  LP002941   Male     Yes          2  Not Graduate           Yes   \n",
       "587  LP002950   Male     Yes          0  Not Graduate           NaN   \n",
       "591  LP002960   Male     Yes          0  Not Graduate            No   \n",
       "593  LP002964   Male     Yes          2  Not Graduate            No   \n",
       "\n",
       "     ApplicantIncome  CoapplicantIncome  LoanAmount  Loan_Amount_Term  \\\n",
       "3               2583             2358.0       120.0             360.0   \n",
       "6               2333             1516.0        95.0             360.0   \n",
       "15              3596                0.0       100.0             240.0   \n",
       "17              4887                0.0       133.0             360.0   \n",
       "19              7660                0.0       104.0             360.0   \n",
       "..               ...                ...         ...               ...   \n",
       "582             3833                0.0       110.0             360.0   \n",
       "583             6383             1000.0       187.0             360.0   \n",
       "587             2894             2792.0       155.0             360.0   \n",
       "591             2400             3800.0         NaN             180.0   \n",
       "593             3987             1411.0       157.0             360.0   \n",
       "\n",
       "     Credit_History Property_Area Loan_Status  \n",
       "3               1.0         Urban           Y  \n",
       "6               1.0         Urban           Y  \n",
       "15              NaN         Urban           Y  \n",
       "17              1.0         Rural           N  \n",
       "19              0.0         Urban           N  \n",
       "..              ...           ...         ...  \n",
       "582             1.0         Rural           Y  \n",
       "583             1.0         Rural           N  \n",
       "587             1.0         Rural           Y  \n",
       "591             1.0         Urban           N  \n",
       "593             1.0         Rural           Y  \n",
       "\n",
       "[134 rows x 13 columns]"
      ]
     },
     "execution_count": 22,
     "metadata": {},
     "output_type": "execute_result"
    }
   ],
   "source": [
    "graduate = data[data['Education'] == 'Graduate']\n",
    "not_graduate = data[data['Education'] == 'Not Graduate']\n",
    "\n",
    "not_graduate"
   ]
  },
  {
   "cell_type": "code",
   "execution_count": 25,
   "metadata": {},
   "outputs": [
    {
     "data": {
      "text/plain": [
       "0        NaN\n",
       "1      128.0\n",
       "2       66.0\n",
       "4      141.0\n",
       "5      267.0\n",
       "       ...  \n",
       "595     71.0\n",
       "596     40.0\n",
       "597    253.0\n",
       "598    187.0\n",
       "599    133.0\n",
       "Name: LoanAmount, Length: 466, dtype: float64"
      ]
     },
     "execution_count": 25,
     "metadata": {},
     "output_type": "execute_result"
    }
   ],
   "source": [
    "graduate['LoanAmount']"
   ]
  },
  {
   "cell_type": "code",
   "execution_count": 26,
   "metadata": {},
   "outputs": [
    {
     "data": {
      "text/plain": [
       "<matplotlib.legend.Legend at 0x15f438c67f0>"
      ]
     },
     "execution_count": 26,
     "metadata": {},
     "output_type": "execute_result"
    },
    {
     "data": {
      "image/png": "[encoded data removed]",
      "text/plain": [
       "<Figure size 432x288 with 1 Axes>"
      ]
     },
     "metadata": {
      "needs_background": "light"
     },
     "output_type": "display_data"
    }
   ],
   "source": [
    "#Plotting density plot for 'Graduate'\n",
    "graduate['LoanAmount'].plot(kind='density', label='Graduate')\n",
    "\n",
    "#Plotting density plot for 'Non Graduate'\n",
    "not_graduate['LoanAmount'].plot(kind='density',label='Not Graduate')\n",
    "\n",
    "#For automatic legend display\n",
    "plt.legend()"
   ]
  },
  {
   "cell_type": "markdown",
   "metadata": {},
   "source": [
    "# Income vs Loan\n",
    "\n",
    "For any financial institution to be successful in its loan lending system, there has to be a correlation between the borrower's income and loan amount he is lent. Let's see how our company fares in that respect:\n",
    "\n",
    "## Instructions :\n",
    "\n",
    "* Create three subplots  with `(nrows = 3 , ncols = 1)` and store it in variable's `fig ,(ax_1,ax_2,ax_3)`\n",
    "\n",
    "* Since both are continuous variables, plot scatter plot between `'ApplicantIncome'` and `LoanAmount` using `ax_1`. Set axis title as `Applicant Income`\n",
    "\n",
    "\n",
    "* Plot scatter plot between `'CoapplicantIncome'` and `LoanAmount` using `ax_2`. Set axis title as `Coapplicant Income` \n",
    "\n",
    "\n",
    "* Create a new column in the dataframe called `'TotalIncome'` which is a sum of the values of columns `ApplicantIncome` and `CoapplicantIncome`\n",
    "\n",
    "\n",
    "* Plot scatter plot between `'TotalIncome'` and `LoanAmount` using `ax_3`. Set axis title as `Total Income` \n",
    "\n",
    " \n",
    "\n",
    "#### Things to ponder upon\n",
    "    - Is there a correlation between 'ApplicantIncome' and 'LoanAmount'?(One way to know that is looking at the line formed when you connect the scatter plot dots?)\n",
    "    \n",
    "    - Is the 'TotalIncome' better related to the 'LoanAmount' than 'ApplicantIncome'?\n",
    "\n"
   ]
  },
  {
   "cell_type": "code",
   "execution_count": 29,
   "metadata": {},
   "outputs": [
    {
     "name": "stdout",
     "output_type": "stream",
     "text": [
      "<class 'pandas.core.series.Series'>\n"
     ]
    },
    {
     "data": {
      "text/plain": [
       "[Text(0.5, 1.0, 'Total Income')]"
      ]
     },
     "execution_count": 29,
     "metadata": {},
     "output_type": "execute_result"
    },
    {
     "data": {
      "image/png": "[encoded data removed]",
      "text/plain": [
       "<Figure size 1440x576 with 3 Axes>"
      ]
     },
     "metadata": {
      "needs_background": "light"
     },
     "output_type": "display_data"
    }
   ],
   "source": [
    "#Code starts here\n",
    "\n",
    "#Setting up the subplots\n",
    "fig, (ax_1, ax_2,ax_3) = plt.subplots(1,3, figsize=(20,8))\n",
    "\n",
    "#Plotting scatter plot\n",
    "ax_1.scatter(data['ApplicantIncome'],data[\"LoanAmount\"])\n",
    "\n",
    "#Setting the subplot axis title\n",
    "ax_1.set(title='Applicant Income')\n",
    "\n",
    "\n",
    "#Plotting scatter plot\n",
    "ax_2.scatter(data['CoapplicantIncome'],data[\"LoanAmount\"])\n",
    "\n",
    "#Setting the subplot axis title\n",
    "ax_2.set(title='Coapplicant Income')\n",
    "\n",
    "\n",
    "#Creating a new column 'TotalIncome'\n",
    "data['TotalIncome']= data['ApplicantIncome']+ data['CoapplicantIncome']\n",
    "print (type(data['ApplicantIncome']))\n",
    "\n",
    "#Plotting scatter plot\n",
    "ax_3.scatter(data['TotalIncome'],data[\"LoanAmount\"])\n",
    "\n",
    "#Setting the subplot axis title\n",
    "ax_3.set(title='Total Income')\n",
    "\n",
    "\n",
    "#Code ends here"
   ]
  },
  {
   "cell_type": "code",
   "execution_count": 27,
   "metadata": {},
   "outputs": [
    {
     "data": {
      "image/png": "[encoded data removed]",
      "text/plain": [
       "<Figure size 1440x576 with 3 Axes>"
      ]
     },
     "metadata": {
      "needs_background": "light"
     },
     "output_type": "display_data"
    }
   ],
   "source": [
    "fig, (ax_1, ax_2, ax_3) = plt.subplots(1,3, figsize=(20,8))\n"
   ]
  },
  {
   "cell_type": "code",
   "execution_count": null,
   "metadata": {},
   "outputs": [],
   "source": [
    "ax_1.scatter(data['ApplicantIncome'],data[\"LoanAmount\"])\n"
   ]
  }
 ],
 "metadata": {
  "kernelspec": {
   "display_name": "Python 3",
   "language": "python",
   "name": "python3"
  },
  "language_info": {
   "codemirror_mode": {
    "name": "ipython",
    "version": 3
   },
   "file_extension": ".py",
   "mimetype": "text/x-python",
   "name": "python",
   "nbconvert_exporter": "python",
   "pygments_lexer": "ipython3",
   "version": "3.8.5"
  }
 },
 "nbformat": 4,
 "nbformat_minor": 4
}
