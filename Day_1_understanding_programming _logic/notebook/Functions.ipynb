{
 "cells": [
  {
   "cell_type": "markdown",
   "metadata": {},
   "source": [
    "## What is a function in Python?\n",
    "\n",
    "In Python, a function is a group of related statements that performs a specific task.\n",
    "\n",
    "Functions help break our program into smaller and modular chunks. As our program grows larger and larger, functions make it more organized and manageable.\n",
    "\n",
    "Furthermore, it avoids repetition and makes the code reusable.\n",
    "\n",
    "```python\n",
    "\n",
    "def function_name(parameters):\n",
    "\t\"\"\"docstring\"\"\"\n",
    "\tstatement(s)\n",
    "    \n",
    "```\n",
    "\n",
    "Above shown is a function definition that consists of the following components.\n",
    "\n",
    "* Keyword def that marks the start of the function header.\n",
    "* A function name to uniquely identify the function. Function naming follows the same rules of writing identifiers in Python.\n",
    "* Parameters (arguments) through which we pass values to a function. They are optional.\n",
    "* A colon (:) to mark the end of the function header.\n",
    "* Optional documentation string (docstring) to describe what the function does.\n",
    "* One or more valid python statements that make up the function body. Statements must have the same indentation level (usually 4 spaces).\n",
    "* An optional return statement to return a value from the function.\n",
    "\n",
    "#### Example of a function:"
   ]
  },
  {
   "cell_type": "code",
   "execution_count": 1,
   "metadata": {},
   "outputs": [],
   "source": [
    "def greet(name):\n",
    "    \"\"\"\n",
    "    This function greets to\n",
    "    the person passed in as\n",
    "    a parameter\n",
    "    \"\"\"\n",
    "    print(\"Hello, \" + name + \". Good morning!\")"
   ]
  },
  {
   "cell_type": "markdown",
   "metadata": {},
   "source": [
    "### How to call a function in python?\n",
    "\n",
    "Once we have defined a function, we can call it from another function, program or even the Python prompt. To call a function we simply type the function name with appropriate parameters."
   ]
  },
  {
   "cell_type": "code",
   "execution_count": 2,
   "metadata": {},
   "outputs": [
    {
     "name": "stdout",
     "output_type": "stream",
     "text": [
      "Hello, Paul. Good morning!\n"
     ]
    }
   ],
   "source": [
    "greet('Paul')"
   ]
  },
  {
   "cell_type": "markdown",
   "metadata": {},
   "source": [
    "Put in your name and call the function again!"
   ]
  },
  {
   "cell_type": "code",
   "execution_count": 7,
   "metadata": {},
   "outputs": [],
   "source": [
    "def Addition(number_1,number_2):\n",
    "    \"\"\"A function to add two numbers taken as input from the users\"\"\"\n",
    "    return print('The addition of the two numbers is',number_1 + number_2)"
   ]
  },
  {
   "cell_type": "code",
   "execution_count": 8,
   "metadata": {},
   "outputs": [
    {
     "name": "stdout",
     "output_type": "stream",
     "text": [
      "The addition of the two numbers is 12\n"
     ]
    }
   ],
   "source": [
    "Addition(5,7)"
   ]
  },
  {
   "cell_type": "markdown",
   "metadata": {},
   "source": [
    "## Do it Yourself\n",
    "\n",
    "* Create a function to take Subtract, multiply and divide two numbers."
   ]
  },
  {
   "cell_type": "code",
   "execution_count": 4,
   "metadata": {},
   "outputs": [],
   "source": [
    "def add(x, y):\n",
    "    return (x+y)\n",
    "\n",
    "add(1, 2)\n",
    "\n",
    "\n",
    "def sub(x, y):\n",
    "    return(x-y)\n",
    "    \n",
    "    sub(x-y)\n",
    "    "
   ]
  },
  {
   "cell_type": "code",
   "execution_count": null,
   "metadata": {},
   "outputs": [],
   "source": []
  },
  {
   "cell_type": "code",
   "execution_count": null,
   "metadata": {},
   "outputs": [],
   "source": []
  }
 ],
 "metadata": {
  "kernelspec": {
   "display_name": "Python 3",
   "language": "python",
   "name": "python3"
  },
  "language_info": {
   "codemirror_mode": {
    "name": "ipython",
    "version": 3
   },
   "file_extension": ".py",
   "mimetype": "text/x-python",
   "name": "python",
   "nbconvert_exporter": "python",
   "pygments_lexer": "ipython3",
   "version": "3.8.5"
  }
 },
 "nbformat": 4,
 "nbformat_minor": 4
}
